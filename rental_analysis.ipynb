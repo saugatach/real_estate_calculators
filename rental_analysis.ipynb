{
 "cells": [
  {
   "cell_type": "code",
   "execution_count": 1,
   "metadata": {},
   "outputs": [],
   "source": [
    "# Jupyter Specifics\n",
    "from IPython.display import HTML\n",
    "from ipywidgets.widgets import interact, IntSlider, FloatSlider, Layout, IntText\n",
    "import propertyanalysis\n",
    "import pandas as pd\n",
    "import numpy as np\n",
    "import matplotlib.pyplot as plt"
   ]
  },
  {
   "cell_type": "code",
   "execution_count": 2,
   "metadata": {},
   "outputs": [],
   "source": [
    "def pmt(price, hoa=200, rent=1400,  down=5, rate=3, duration=30, tax_rate=0.68,\n",
    "                  vacancy_rate=5, prop_mgmnt_rate=10, capex=5):\n",
    "    data = propertyanalysis.net_operating(price, rent, hoa, down, rate, duration, tax_rate,\n",
    "                  vacancy_rate, prop_mgmnt_rate, capex)\n",
    "    data['monthly_pmt'] = data['mortgage'] + data['prop_tax'] + data['pmi'] + hoa\n",
    "    df = pd.DataFrame(data, index=[0])\n",
    "    return df.T\n",
    "    "
   ]
  },
  {
   "cell_type": "code",
   "execution_count": 3,
   "metadata": {},
   "outputs": [
    {
     "data": {
      "application/vnd.jupyter.widget-view+json": {
       "model_id": "dd5480f36f5147eab4c611ab9a19c1c6",
       "version_major": 2,
       "version_minor": 0
      },
      "text/plain": [
       "interactive(children=(IntText(value=200000, description='price'), IntText(value=200, description='hoa'), IntSl…"
      ]
     },
     "metadata": {},
     "output_type": "display_data"
    }
   ],
   "source": [
    "interact(pmt, \n",
    "         price=IntText(value=200000, min=25000, max=450000), \n",
    "         hoa=IntText(value=200, min=0, max=350),\n",
    "         rent=IntSlider(value=1400, min=0, max=5000),                  \n",
    "         down=FloatSlider(value=5, min=3, max=40), \n",
    "         rate=FloatSlider(value=3, min=0, max=10), \n",
    "         duration=IntSlider(value=30, min=2, max=40),\n",
    "         tax_rate=FloatSlider(value=0.68, min=0.0, max=2.0),\n",
    "         vacancy_rate=IntSlider(value=5, min=0, max=20),\n",
    "         prop_mgmnt_rate=IntSlider(value=10, min=0, max=20),\n",
    "         capex=IntSlider(value=5, min=0, max=20));"
   ]
  },
  {
   "cell_type": "code",
   "execution_count": 4,
   "metadata": {},
   "outputs": [],
   "source": [
    "def breakeven(price1, overappraisal1, price2, overappraisal2):\n",
    "    data1 = propertyanalysis.net_operating(price1, hoa=200, rent=1400,  down=5, rate=3, duration=30, tax_rate=0.68,\n",
    "                  vacancy_rate=5, prop_mgmnt_rate=10, capex=5)\n",
    "    data2 = propertyanalysis.net_operating(price2, hoa=200, rent=1400,  down=5, rate=3, duration=30, tax_rate=0.68,\n",
    "                  vacancy_rate=5, prop_mgmnt_rate=10, capex=5)\n",
    "    data1['monthly_pmt'] = data1['mortgage'] + data1['prop_tax'] + data1['pmi']\n",
    "    data2['monthly_pmt'] = data2['mortgage'] + data2['prop_tax'] + data2['pmi'] \n",
    "    n = np.arange(5*12)\n",
    "    diffs = n*(data2['monthly_pmt'] - data1['monthly_pmt']) + (overappraisal2 - overappraisal1)\n",
    "    breakevenmonth = -(overappraisal2 - overappraisal1)/(data2['monthly_pmt'] - data1['monthly_pmt'])\n",
    "    print(\"Breakeven month:\", breakevenmonth)\n",
    "    yvals = np.arange(diffs.min(), diffs.max())\n",
    "    breakevenmonth = breakevenmonth*np.ones(len(yvals))\n",
    "    plt.plot(n, diffs)\n",
    "    plt.plot(n, n*0)\n",
    "    plt.plot(breakevenmonth, yvals)\n",
    "    plt.xlabel(\"months\")\n",
    "    plt.ylabel(\"Difference\")\n",
    "    \n",
    "\n",
    "# breakeven(price1=200000, overappraisal1=7000, price2=240000, overappraisal2=0)"
   ]
  },
  {
   "cell_type": "code",
   "execution_count": 5,
   "metadata": {},
   "outputs": [
    {
     "data": {
      "application/vnd.jupyter.widget-view+json": {
       "model_id": "9497f320116345c6a80983e29600d6b4",
       "version_major": 2,
       "version_minor": 0
      },
      "text/plain": [
       "interactive(children=(IntText(value=200000, description='price1'), IntText(value=5000, description='overapprai…"
      ]
     },
     "metadata": {},
     "output_type": "display_data"
    },
    {
     "data": {
      "text/plain": [
       "<function __main__.breakeven(price1, overappraisal1, price2, overappraisal2)>"
      ]
     },
     "execution_count": 5,
     "metadata": {},
     "output_type": "execute_result"
    }
   ],
   "source": [
    "interact(breakeven, \n",
    "         price1=IntText(value=200000, min=25000, max=450000), \n",
    "         price2=IntText(value=250000, min=25000, max=450000), \n",
    "         overappraisal1=IntText(value=5000, min=0, max=15000),\n",
    "         overappraisal2=IntText(value=0, min=0, max=15000)\n",
    "        )"
   ]
  },
  {
   "cell_type": "code",
   "execution_count": null,
   "metadata": {},
   "outputs": [],
   "source": []
  },
  {
   "cell_type": "code",
   "execution_count": null,
   "metadata": {},
   "outputs": [],
   "source": []
  }
 ],
 "metadata": {
  "kernelspec": {
   "display_name": "Python 3",
   "language": "python",
   "name": "python3"
  },
  "language_info": {
   "codemirror_mode": {
    "name": "ipython",
    "version": 3
   },
   "file_extension": ".py",
   "mimetype": "text/x-python",
   "name": "python",
   "nbconvert_exporter": "python",
   "pygments_lexer": "ipython3",
   "version": "3.8.5"
  }
 },
 "nbformat": 4,
 "nbformat_minor": 4
}
