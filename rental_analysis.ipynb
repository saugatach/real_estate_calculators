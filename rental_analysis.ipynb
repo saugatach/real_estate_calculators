{
 "cells": [
  {
   "cell_type": "code",
   "execution_count": 26,
   "metadata": {},
   "outputs": [],
   "source": [
    "# Jupyter Specifics\n",
    "from IPython.display import HTML\n",
    "from ipywidgets.widgets import interact, IntSlider, FloatSlider, Layout, IntText\n",
    "import propertyanalysis\n",
    "import pandas as pd"
   ]
  },
  {
   "cell_type": "code",
   "execution_count": 31,
   "metadata": {},
   "outputs": [],
   "source": [
    "def pmt(price, hoa=200, rent=1400,  down=5, rate=3, duration=30, tax_rate=0.68,\n",
    "                  vacancy_rate=5, prop_mgmnt_rate=10, capex=5):\n",
    "    data = propertyanalysis.net_operating(price, rent, hoa, down, rate, duration, tax_rate,\n",
    "                  vacancy_rate, prop_mgmnt_rate, capex)\n",
    "    data['monthly_pmt'] = data['mortgage'] + data['prop_tax'] + data['pmi'] + hoa\n",
    "    df = pd.DataFrame(data, index=[0])\n",
    "    return df.T\n",
    "    "
   ]
  },
  {
   "cell_type": "code",
   "execution_count": 32,
   "metadata": {},
   "outputs": [
    {
     "data": {
      "application/vnd.jupyter.widget-view+json": {
       "model_id": "8555d95c2e8444e78752b7c0c4e08164",
       "version_major": 2,
       "version_minor": 0
      },
      "text/plain": [
       "interactive(children=(IntText(value=200000, description='price'), IntText(value=200, description='hoa'), IntSl…"
      ]
     },
     "metadata": {},
     "output_type": "display_data"
    }
   ],
   "source": [
    "interact(pmt, \n",
    "         price=IntText(value=200000, min=25000, max=450000), \n",
    "         hoa=IntText(value=200, min=0, max=350),\n",
    "         rent=IntSlider(value=1400, min=0, max=5000),                  \n",
    "         down=FloatSlider(value=5, min=3, max=40), \n",
    "         rate=FloatSlider(value=3, min=0, max=10), \n",
    "         duration=IntSlider(value=30, min=2, max=40),\n",
    "         tax_rate=FloatSlider(value=0.68, min=0.0, max=2.0),\n",
    "         vacancy_rate=IntSlider(value=5, min=0, max=20),\n",
    "         prop_mgmnt_rate=IntSlider(value=10, min=0, max=20),\n",
    "         capex=IntSlider(value=5, min=0, max=20));"
   ]
  },
  {
   "cell_type": "code",
   "execution_count": null,
   "metadata": {},
   "outputs": [],
   "source": []
  },
  {
   "cell_type": "code",
   "execution_count": null,
   "metadata": {},
   "outputs": [],
   "source": []
  }
 ],
 "metadata": {
  "kernelspec": {
   "display_name": "Python 3",
   "language": "python",
   "name": "python3"
  },
  "language_info": {
   "codemirror_mode": {
    "name": "ipython",
    "version": 3
   },
   "file_extension": ".py",
   "mimetype": "text/x-python",
   "name": "python",
   "nbconvert_exporter": "python",
   "pygments_lexer": "ipython3",
   "version": "3.8.5"
  }
 },
 "nbformat": 4,
 "nbformat_minor": 4
}
