{
 "cells": [
  {
   "cell_type": "code",
   "execution_count": 9,
   "metadata": {},
   "outputs": [],
   "source": [
    "# Jupyter Specifics\n",
    "from IPython.display import HTML\n",
    "from ipywidgets.widgets import interact, IntSlider, FloatSlider, Layout\n",
    "import propertyanalysis"
   ]
  },
  {
   "cell_type": "code",
   "execution_count": 18,
   "metadata": {},
   "outputs": [
    {
     "data": {
      "application/vnd.jupyter.widget-view+json": {
       "model_id": "e32b1c11ebad46c68722d8f11624458e",
       "version_major": 2,
       "version_minor": 0
      },
      "text/plain": [
       "interactive(children=(IntSlider(value=200000, description='price', max=350000, min=25000), IntSlider(value=140…"
      ]
     },
     "metadata": {},
     "output_type": "display_data"
    }
   ],
   "source": [
    "interact(propertyanalysis.net_operating, \n",
    "         price=IntSlider(value=200000, min=25000, max=350000), \n",
    "         rent=IntSlider(value=1400, min=0, max=5000),         \n",
    "         hoa=IntSlider(value=200, min=0, max=350),\n",
    "         down=FloatSlider(value=5, min=3, max=40), \n",
    "         rate=FloatSlider(value=3.5, min=0, max=10), \n",
    "         duration=IntSlider(value=30, min=2, max=40),\n",
    "         tax_rate=FloatSlider(value=0.68, min=0.0, max=2.0),\n",
    "         vacancy_rate=IntSlider(value=5, min=0, max=20),\n",
    "         prop_mgmnt_rate=IntSlider(value=10, min=0, max=20),\n",
    "         capex=IntSlider(value=5, min=0, max=20));"
   ]
  }
 ],
 "metadata": {
  "kernelspec": {
   "display_name": "Python 3",
   "language": "python",
   "name": "python3"
  },
  "language_info": {
   "codemirror_mode": {
    "name": "ipython",
    "version": 3
   },
   "file_extension": ".py",
   "mimetype": "text/x-python",
   "name": "python",
   "nbconvert_exporter": "python",
   "pygments_lexer": "ipython3",
   "version": "3.8.5"
  }
 },
 "nbformat": 4,
 "nbformat_minor": 4
}
