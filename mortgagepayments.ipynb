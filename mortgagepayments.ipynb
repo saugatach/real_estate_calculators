{
 "cells": [
  {
   "cell_type": "code",
   "execution_count": 1,
   "metadata": {},
   "outputs": [],
   "source": [
    "# General Purpose\n",
    "import numpy as np\n",
    "from matplotlib import pyplot as plt\n",
    "from scipy.integrate import odeint\n",
    "\n",
    "# Jupyter Specifics\n",
    "from IPython.display import HTML\n",
    "from ipywidgets.widgets import interact, IntSlider, FloatSlider, Layout\n",
    "\n",
    "%matplotlib inline\n",
    "\n",
    "style = {'description_width': '150px'}\n",
    "slider_layout = Layout(width='99%')"
   ]
  },
  {
   "cell_type": "code",
   "execution_count": 2,
   "metadata": {},
   "outputs": [],
   "source": [
    "def pmt(mortgage, down, apr, term):\n",
    "\n",
    "    # if down payment is in % then convert it to decimal\n",
    "    if down > 1:\n",
    "        down = down/100\n",
    "\n",
    "    # if term is not in months then convert it to months\n",
    "    if term < 36:\n",
    "        term = term*12\n",
    "\n",
    "    # if apr is in % then convert it to decimal\n",
    "    if apr > 1:\n",
    "        apr = apr/100\n",
    "\n",
    "    apr_mo = apr/12\n",
    "\n",
    "    principal  = mortgage*(1-down)\n",
    "    factor = (1+apr_mo)**term\n",
    "    monthlypayment = principal* factor * apr_mo/ ( factor - 1)\n",
    "\n",
    "    return np.round(monthlypayment)"
   ]
  },
  {
   "cell_type": "code",
   "execution_count": 3,
   "metadata": {},
   "outputs": [
    {
     "data": {
      "application/vnd.jupyter.widget-view+json": {
       "model_id": "d2ce62d3ab4d4ff8aa56fa6ae75fe6c3",
       "version_major": 2,
       "version_minor": 0
      },
      "text/plain": [
       "interactive(children=(IntSlider(value=200000, description='mortgage', max=1000000, min=25000), FloatSlider(val…"
      ]
     },
     "metadata": {},
     "output_type": "display_data"
    }
   ],
   "source": [
    "interact(pmt, mortgage=IntSlider(value=200000, min=25000, max=1000000) , down=FloatSlider(value=5, min=3, max=40), \n",
    "         apr=FloatSlider(value=3.5, min=0, max=10), term=IntSlider(value=30, min=2, max=40, desciption=\"Length of loan in years\"));"
   ]
  },
  {
   "cell_type": "code",
   "execution_count": 8,
   "metadata": {},
   "outputs": [
    {
     "name": "stdout",
     "output_type": "stream",
     "text": [
      "The watermark extension is already loaded. To reload it, use:\n",
      "  %reload_ext watermark\n"
     ]
    }
   ],
   "source": [
    "%load_ext watermark"
   ]
  },
  {
   "cell_type": "code",
   "execution_count": 11,
   "metadata": {},
   "outputs": [
    {
     "name": "stdout",
     "output_type": "stream",
     "text": [
      "CPython 3.6.9\n",
      "IPython 6.5.0\n",
      "\n",
      "pandas 0.24.2\n",
      "numpy 1.16.2\n",
      "matplotlib 3.0.3\n",
      "scipy 1.2.1\n",
      "ipywidgets 7.4.1\n",
      "\n",
      "compiler   : GCC 8.4.0\n",
      "system     : Linux\n",
      "release    : 4.15.0-112-generic\n",
      "machine    : x86_64\n",
      "processor  : x86_64\n",
      "CPU cores  : 6\n",
      "interpreter: 64bit\n"
     ]
    }
   ],
   "source": [
    "%watermark -v -m -p pandas,numpy,matplotlib,scipy,ipywidgets"
   ]
  },
  {
   "cell_type": "code",
   "execution_count": null,
   "metadata": {},
   "outputs": [],
   "source": []
  }
 ],
 "metadata": {
  "kernelspec": {
   "display_name": "Python 3",
   "language": "python",
   "name": "python3"
  },
  "language_info": {
   "codemirror_mode": {
    "name": "ipython",
    "version": 3
   },
   "file_extension": ".py",
   "mimetype": "text/x-python",
   "name": "python",
   "nbconvert_exporter": "python",
   "pygments_lexer": "ipython3",
   "version": "3.6.9"
  }
 },
 "nbformat": 4,
 "nbformat_minor": 2
}
